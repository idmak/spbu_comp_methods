{
 "cells": [
  {
   "cell_type": "code",
   "execution_count": 39,
   "metadata": {},
   "outputs": [],
   "source": [
    "import numpy\n",
    "import math\n",
    "import pandas as pd\n",
    "import sympy as sp\n",
    "import matplotlib.pyplot as plt"
   ]
  },
  {
   "cell_type": "markdown",
   "metadata": {},
   "source": [
    "Изображение:"
   ]
  },
  {
   "cell_type": "code",
   "execution_count": 31,
   "metadata": {},
   "outputs": [],
   "source": [
    "p = sp.symbols('p')\n",
    "f_symbol = (sp.Pow(p, 1.0 / 3)-1) / (sp.Pow(p, 1.0 / 2) - 1)"
   ]
  },
  {
   "cell_type": "markdown",
   "metadata": {},
   "source": [
    "Вычисление производных изображения:"
   ]
  },
  {
   "cell_type": "code",
   "execution_count": 7,
   "metadata": {},
   "outputs": [],
   "source": [
    "def f_derivative(n, p_):\n",
    "    return sp.lambdify(p, sp.diff(f_symbol, p, int(n)))(p_)"
   ]
  },
  {
   "cell_type": "markdown",
   "metadata": {},
   "source": [
    "Слагаемые ряда функции-оригинала:"
   ]
  },
  {
   "cell_type": "code",
   "execution_count": 61,
   "metadata": {},
   "outputs": [],
   "source": [
    "def series_elem(n, t):\n",
    "    if n % 2 == 0:\n",
    "        return -(t ** (- 1.0 / 2 + ((n-1)//2)/2)) / math.gamma(1 / 2 + ((n-1)//2)/2)\n",
    "    return (t ** (- 5.0 / 6 + (n//2)/2)) / math.gamma(1.0 / 6 + (n//2)/2)"
   ]
  },
  {
   "cell_type": "markdown",
   "metadata": {},
   "source": [
    "Определение операторов Виддера:"
   ]
  },
  {
   "cell_type": "code",
   "execution_count": 11,
   "metadata": {},
   "outputs": [],
   "source": [
    "def w_n(n, t):\n",
    "    p = float(n) / t\n",
    "    sign = -1\n",
    "    if (n % 2 == 0):\n",
    "        sign = 1\n",
    "    return sign * float(p ** (n + 1)) / math.factorial(n) * f_derivative(n,p)"
   ]
  },
  {
   "cell_type": "code",
   "execution_count": 12,
   "metadata": {},
   "outputs": [],
   "source": [
    "def dj(k, n):\n",
    "    d_j = [float(j) / n for j in range(1, k + 1)]\n",
    "    return d_j"
   ]
  },
  {
   "cell_type": "code",
   "execution_count": 13,
   "metadata": {},
   "outputs": [],
   "source": [
    "def ckj(n, k):\n",
    "    d_j = dj(k, n)\n",
    "    c_k_j = []\n",
    "    for j in range(1, k + 1):\n",
    "        ans = 1\n",
    "        for i in range(1, n + 1):\n",
    "            if i != j:\n",
    "                ans *= d_j[j - 1] / (d_j[j - 1] - d_j[i - 1])\n",
    "        c_k_j.append(ans)\n",
    "    return c_k_j"
   ]
  },
  {
   "cell_type": "markdown",
   "metadata": {},
   "source": [
    "Метод Виддера: "
   ]
  },
  {
   "cell_type": "code",
   "execution_count": 18,
   "metadata": {},
   "outputs": [],
   "source": [
    "def simple_widder(n, t):\n",
    "    return w_n(n, t)"
   ]
  },
  {
   "cell_type": "markdown",
   "metadata": {},
   "source": [
    "Ускоренный метод Виддера:"
   ]
  },
  {
   "cell_type": "code",
   "execution_count": 19,
   "metadata": {},
   "outputs": [],
   "source": [
    "def advanced_widder(n, k, t):\n",
    "    d_j = dj(k, n)\n",
    "    c_k_j = ckj(n, k)\n",
    "    ans = 0\n",
    "    for j in range(1, k + 1):\n",
    "        ans += c_k_j[j - 1] * w_n(n * d_j[j - 1], t)\n",
    "    return ans"
   ]
  },
  {
   "cell_type": "code",
   "execution_count": 20,
   "metadata": {},
   "outputs": [],
   "source": [
    "def series(n, t):\n",
    "    ans = 0\n",
    "    for i in range(1, n + 1):\n",
    "        ans += series_elem(i, t)\n",
    "    return ans"
   ]
  },
  {
   "cell_type": "code",
   "execution_count": 62,
   "metadata": {},
   "outputs": [],
   "source": [
    "t = 0.5\n",
    "result = numpy.zeros((15, 3))\n",
    "for i in range(1, 16):\n",
    "    result[i - 1][0] = simple_widder(i, t)\n",
    "    result[i - 1][1] = advanced_widder(i, i, t)\n",
    "    result[i - 1][2] = series(i, t)\n",
    "df = pd.DataFrame(result, index=[n for n in range(1, 16)],\n",
    "columns=['Метод Виддера', 'Ускоренный метод Виддера', 'Разложение в ряд'])"
   ]
  },
  {
   "cell_type": "markdown",
   "metadata": {},
   "source": [
    "Сравнение значений методов в точке t=0.5"
   ]
  },
  {
   "cell_type": "code",
   "execution_count": 63,
   "metadata": {},
   "outputs": [
    {
     "data": {
      "text/html": [
       "<div>\n",
       "<style scoped>\n",
       "    .dataframe tbody tr th:only-of-type {\n",
       "        vertical-align: middle;\n",
       "    }\n",
       "\n",
       "    .dataframe tbody tr th {\n",
       "        vertical-align: top;\n",
       "    }\n",
       "\n",
       "    .dataframe thead th {\n",
       "        text-align: right;\n",
       "    }\n",
       "</style>\n",
       "<table border=\"1\" class=\"dataframe\">\n",
       "  <thead>\n",
       "    <tr style=\"text-align: right;\">\n",
       "      <th></th>\n",
       "      <th>Метод Виддера</th>\n",
       "      <th>Ускоренный метод Виддера</th>\n",
       "      <th>Разложение в ряд</th>\n",
       "    </tr>\n",
       "  </thead>\n",
       "  <tbody>\n",
       "    <tr>\n",
       "      <th>1</th>\n",
       "      <td>0.114623</td>\n",
       "      <td>0.114623</td>\n",
       "      <td>0.320104</td>\n",
       "    </tr>\n",
       "    <tr>\n",
       "      <th>2</th>\n",
       "      <td>0.114959</td>\n",
       "      <td>0.115294</td>\n",
       "      <td>-0.477781</td>\n",
       "    </tr>\n",
       "    <tr>\n",
       "      <th>3</th>\n",
       "      <td>0.114913</td>\n",
       "      <td>0.114586</td>\n",
       "      <td>0.452656</td>\n",
       "    </tr>\n",
       "    <tr>\n",
       "      <th>4</th>\n",
       "      <td>0.114863</td>\n",
       "      <td>0.114604</td>\n",
       "      <td>-0.547344</td>\n",
       "    </tr>\n",
       "    <tr>\n",
       "      <th>5</th>\n",
       "      <td>0.114824</td>\n",
       "      <td>0.114612</td>\n",
       "      <td>0.412966</td>\n",
       "    </tr>\n",
       "    <tr>\n",
       "      <th>6</th>\n",
       "      <td>0.114795</td>\n",
       "      <td>0.114612</td>\n",
       "      <td>-0.384918</td>\n",
       "    </tr>\n",
       "    <tr>\n",
       "      <th>7</th>\n",
       "      <td>0.114773</td>\n",
       "      <td>0.114612</td>\n",
       "      <td>0.312909</td>\n",
       "    </tr>\n",
       "    <tr>\n",
       "      <th>8</th>\n",
       "      <td>0.114755</td>\n",
       "      <td>0.114612</td>\n",
       "      <td>-0.187091</td>\n",
       "    </tr>\n",
       "    <tr>\n",
       "      <th>9</th>\n",
       "      <td>0.114741</td>\n",
       "      <td>0.114612</td>\n",
       "      <td>0.224471</td>\n",
       "    </tr>\n",
       "    <tr>\n",
       "      <th>10</th>\n",
       "      <td>0.114729</td>\n",
       "      <td>0.114612</td>\n",
       "      <td>-0.041491</td>\n",
       "    </tr>\n",
       "    <tr>\n",
       "      <th>11</th>\n",
       "      <td>0.114719</td>\n",
       "      <td>0.114612</td>\n",
       "      <td>0.167858</td>\n",
       "    </tr>\n",
       "    <tr>\n",
       "      <th>12</th>\n",
       "      <td>0.114711</td>\n",
       "      <td>0.114612</td>\n",
       "      <td>0.042858</td>\n",
       "    </tr>\n",
       "    <tr>\n",
       "      <th>13</th>\n",
       "      <td>0.114704</td>\n",
       "      <td>0.114612</td>\n",
       "      <td>0.137833</td>\n",
       "    </tr>\n",
       "    <tr>\n",
       "      <th>14</th>\n",
       "      <td>0.114698</td>\n",
       "      <td>0.114612</td>\n",
       "      <td>0.084641</td>\n",
       "    </tr>\n",
       "    <tr>\n",
       "      <th>15</th>\n",
       "      <td>0.114692</td>\n",
       "      <td>0.114612</td>\n",
       "      <td>0.123894</td>\n",
       "    </tr>\n",
       "  </tbody>\n",
       "</table>\n",
       "</div>"
      ],
      "text/plain": [
       "    Метод Виддера  Ускоренный метод Виддера  Разложение в ряд\n",
       "1        0.114623                  0.114623          0.320104\n",
       "2        0.114959                  0.115294         -0.477781\n",
       "3        0.114913                  0.114586          0.452656\n",
       "4        0.114863                  0.114604         -0.547344\n",
       "5        0.114824                  0.114612          0.412966\n",
       "6        0.114795                  0.114612         -0.384918\n",
       "7        0.114773                  0.114612          0.312909\n",
       "8        0.114755                  0.114612         -0.187091\n",
       "9        0.114741                  0.114612          0.224471\n",
       "10       0.114729                  0.114612         -0.041491\n",
       "11       0.114719                  0.114612          0.167858\n",
       "12       0.114711                  0.114612          0.042858\n",
       "13       0.114704                  0.114612          0.137833\n",
       "14       0.114698                  0.114612          0.084641\n",
       "15       0.114692                  0.114612          0.123894"
      ]
     },
     "execution_count": 63,
     "metadata": {},
     "output_type": "execute_result"
    }
   ],
   "source": [
    "df"
   ]
  },
  {
   "cell_type": "markdown",
   "metadata": {},
   "source": [
    "Графики оригиналов, полученных методами, на интервале (0;1) при n=20"
   ]
  },
  {
   "cell_type": "code",
   "execution_count": 76,
   "metadata": {},
   "outputs": [
    {
     "data": {
      "image/png": "[encoded data removed]",
      "text/plain": [
       "<Figure size 432x288 with 1 Axes>"
      ]
     },
     "metadata": {
      "needs_background": "light"
     },
     "output_type": "display_data"
    }
   ],
   "source": [
    "n = 20\n",
    "\n",
    "def y1(x):\n",
    "    return simple_widder(n,x)\n",
    "\n",
    "def y2(x):\n",
    "    return advanced_widder(n,n,x)\n",
    "\n",
    "def y3(x):\n",
    "    return series(n,x)\n",
    "\n",
    "#x = [0.1,0.2,0.3,0.4,0.5,0.6,0.7,0.8,0.9]\n",
    "# f1 = [y1(ii) for ii in x]\n",
    "# f2 = [y2(ii) for ii in x]\n",
    "# f3 = [y3(ii) for ii in x]\n",
    "\n",
    "fig, ax = plt.subplots()                        \n",
    "ax.plot(x, f1, color=\"blue\", label=\"Метод Виддера\")\n",
    "ax.plot(x, f2, color=\"red\", label=\"Ускоренный метод Виддера\")    \n",
    "ax.plot(x, f3, color=\"green\", label=\"Разложение в ряд\")  \n",
    "ax.set_xlabel(\"x\")                              \n",
    "ax.set_ylabel(\"y\")                             \n",
    "ax.legend()                                     \n",
    "\n",
    "plt.show()"
   ]
  },
  {
   "cell_type": "code",
   "execution_count": 77,
   "metadata": {},
   "outputs": [],
   "source": [
    "fig.savefig('widder graph')"
   ]
  },
  {
   "cell_type": "code",
   "execution_count": null,
   "metadata": {},
   "outputs": [],
   "source": []
  }
 ],
 "metadata": {
  "kernelspec": {
   "display_name": "Python 3",
   "language": "python",
   "name": "python3"
  },
  "language_info": {
   "codemirror_mode": {
    "name": "ipython",
    "version": 3
   },
   "file_extension": ".py",
   "mimetype": "text/x-python",
   "name": "python",
   "nbconvert_exporter": "python",
   "pygments_lexer": "ipython3",
   "version": "3.8.5"
  }
 },
 "nbformat": 4,
 "nbformat_minor": 4
}
