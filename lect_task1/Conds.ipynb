{
 "cells": [
  {
   "cell_type": "markdown",
   "metadata": {},
   "source": [
    "#  Сравнение чисел обусловленности обобщенной матрицы Вандермонда и ее корня"
   ]
  },
  {
   "cell_type": "code",
   "execution_count": 34,
   "metadata": {},
   "outputs": [],
   "source": [
    "from numpy.linalg import eig, inv, norm, cond\n",
    "import numpy as np\n",
    "from tabulate import tabulate"
   ]
  },
  {
   "cell_type": "code",
   "execution_count": 2,
   "metadata": {},
   "outputs": [],
   "source": [
    "def gen_vandermonde(n):\n",
    "    result = np.zeros(shape=(n,n))\n",
    "    for i in range(n):\n",
    "        for k in range(n):\n",
    "            result[i,k] = (n-i+1)**(-3*k/2)\n",
    "    return result"
   ]
  },
  {
   "cell_type": "code",
   "execution_count": 3,
   "metadata": {},
   "outputs": [],
   "source": [
    "def newton_method(X,epsilon):\n",
    "    x_k = np.identity(X.shape[0])\n",
    "    x_k1 = 0.5*(x_k+inv(x_k)@X)\n",
    "    while norm(x_k1-x_k)>epsilon:\n",
    "        x_k = x_k1\n",
    "        x_k1 = 0.5*(x_k+inv(x_k)@X)\n",
    "    return x_k1"
   ]
  },
  {
   "cell_type": "code",
   "execution_count": 9,
   "metadata": {},
   "outputs": [],
   "source": [
    "def eig_method(X):\n",
    "    V = eig(X)[1]\n",
    "    sigma = np.diag(eig(X)[0]**(0.5))\n",
    "    return V @ sigma @ inv(V)"
   ]
  },
  {
   "cell_type": "markdown",
   "metadata": {},
   "source": [
    "Числа обусловленности исходной матрицы X и ее корня B (найденных двумя методами):"
   ]
  },
  {
   "cell_type": "code",
   "execution_count": 37,
   "metadata": {
    "scrolled": true
   },
   "outputs": [
    {
     "name": "stdout",
     "output_type": "stream",
     "text": [
      "|   n |       cond1 |       cond2 |   cond3 |   norm((X - NewtonMeth^2)) |\n",
      "|-----|-------------|-------------|---------|----------------------------|\n",
      "|   2 |     13.3453 |     3.86718 | 3.86713 |                3.38314e-06 |\n",
      "|   3 |     229.722 |     18.2467 | 18.2467 |                2.04294e-08 |\n",
      "|   4 |      5529.2 |     110.399 | 110.367 |                2.02704e-06 |\n",
      "|   5 |      178347 |     837.766 | 819.531 |                 2.2283e-05 |\n",
      "|   6 | 7.39689e+06 |     7750.36 | 5638.03 |                4.94802e-05 |\n",
      "|   7 |  3.8161e+08 |     85050.7 | 16563.3 |                8.94198e-05 |\n",
      "|   8 | 2.38568e+10 | 1.08904e+06 |  189514 |                 0.00988719 |\n",
      "|   9 | 1.76993e+12 | 1.60532e+07 | 170.493 |                   0.182943 |\n",
      "|  10 | 1.53207e+14 | 2.82498e+08 | 200.132 |                   0.194734 |\n"
     ]
    }
   ],
   "source": [
    "conds = []\n",
    "\n",
    "for i in range(2,11):\n",
    "    X = gen_vandermonde(i)\n",
    "    B1 = eig_method(X)\n",
    "    if i in range(2,8):\n",
    "        B2 = newton_method(X,1e-3*(i**2))\n",
    "    else:\n",
    "        B2 = newton_method(X,1e-2*(i**2))\n",
    "    conds.append([i,cond(X),cond(B1),cond(B2),norm(B2@B2-X)])\n",
    "\n",
    "print(tabulate(conds,headers=['n','cond1','cond2','cond3','norm((X - NewtonMeth^2))'],\n",
    "               tablefmt='github',numalign=\"right\"))"
   ]
  },
  {
   "cell_type": "markdown",
   "metadata": {},
   "source": [
    "# Приложение:"
   ]
  },
  {
   "cell_type": "markdown",
   "metadata": {},
   "source": [
    "Обобщенная матрица Вандермонда второго порядка:"
   ]
  },
  {
   "cell_type": "code",
   "execution_count": 18,
   "metadata": {},
   "outputs": [
    {
     "name": "stdout",
     "output_type": "stream",
     "text": [
      "[[1.         0.19245009]\n",
      " [1.         0.35355339]]\n"
     ]
    }
   ],
   "source": [
    "X = gen_vandermonde(2)\n",
    "print(X)"
   ]
  },
  {
   "cell_type": "markdown",
   "metadata": {},
   "source": [
    "Корень из обобщенной матрицы Вандермонда второго порядка:"
   ]
  },
  {
   "cell_type": "code",
   "execution_count": 19,
   "metadata": {},
   "outputs": [
    {
     "name": "stdout",
     "output_type": "stream",
     "text": [
      "[[0.9543323  0.13105779]\n",
      " [0.68099624 0.51410459]]\n"
     ]
    }
   ],
   "source": [
    "print(eig_method(X))"
   ]
  },
  {
   "cell_type": "markdown",
   "metadata": {},
   "source": [
    "Обобщенная матрица Вандермонда третьего порядка:"
   ]
  },
  {
   "cell_type": "code",
   "execution_count": 20,
   "metadata": {
    "scrolled": true
   },
   "outputs": [
    {
     "name": "stdout",
     "output_type": "stream",
     "text": [
      "[[1.         0.125      0.015625  ]\n",
      " [1.         0.19245009 0.03703704]\n",
      " [1.         0.35355339 0.125     ]]\n"
     ]
    }
   ],
   "source": [
    "X = gen_vandermonde(3)\n",
    "print(X)"
   ]
  },
  {
   "cell_type": "markdown",
   "metadata": {},
   "source": [
    "Корень из обобщенной матрицы Вандермонда третьего порядка:"
   ]
  },
  {
   "cell_type": "code",
   "execution_count": 21,
   "metadata": {},
   "outputs": [
    {
     "name": "stdout",
     "output_type": "stream",
     "text": [
      "[[0.96050215 0.09518163 0.00861032]\n",
      " [0.76960791 0.30780991 0.04918884]\n",
      " [0.48582172 0.4970764  0.31042923]]\n"
     ]
    }
   ],
   "source": [
    "print(eig_method(X))"
   ]
  }
 ],
 "metadata": {
  "kernelspec": {
   "display_name": "Python 3",
   "language": "python",
   "name": "python3"
  },
  "language_info": {
   "codemirror_mode": {
    "name": "ipython",
    "version": 3
   },
   "file_extension": ".py",
   "mimetype": "text/x-python",
   "name": "python",
   "nbconvert_exporter": "python",
   "pygments_lexer": "ipython3",
   "version": "3.8.5"
  }
 },
 "nbformat": 4,
 "nbformat_minor": 4
}
