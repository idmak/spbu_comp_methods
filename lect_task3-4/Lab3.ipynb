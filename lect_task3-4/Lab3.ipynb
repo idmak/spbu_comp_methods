{
 "cells": [
  {
   "cell_type": "code",
   "execution_count": 1,
   "metadata": {},
   "outputs": [],
   "source": [
    "import math\n",
    "import numpy as np\n",
    "from tabulate import tabulate\n",
    "from numpy.linalg import solve"
   ]
  },
  {
   "cell_type": "markdown",
   "metadata": {},
   "source": [
    "Вычисленный u(x) при z(s)=1"
   ]
  },
  {
   "cell_type": "code",
   "execution_count": 2,
   "metadata": {},
   "outputs": [],
   "source": [
    "def u(x):\n",
    "    return (math.cos(1-x)-math.cos(1))/x"
   ]
  },
  {
   "cell_type": "markdown",
   "metadata": {},
   "source": [
    "Ядро:"
   ]
  },
  {
   "cell_type": "code",
   "execution_count": 3,
   "metadata": {},
   "outputs": [],
   "source": [
    "def K(x,s):\n",
    "    return math.sin(1-x*s)"
   ]
  },
  {
   "cell_type": "markdown",
   "metadata": {},
   "source": [
    "Вычисление узлов для формулы средних прямоугольников:"
   ]
  },
  {
   "cell_type": "code",
   "execution_count": 4,
   "metadata": {},
   "outputs": [],
   "source": [
    "def build_nodes(N):\n",
    "    result = []\n",
    "    for i in range(N):\n",
    "        result.append(i/N+1/(2*N))\n",
    "    return result"
   ]
  },
  {
   "cell_type": "markdown",
   "metadata": {},
   "source": [
    "Построение матрицы С:"
   ]
  },
  {
   "cell_type": "code",
   "execution_count": 5,
   "metadata": {},
   "outputs": [],
   "source": [
    "def build_matrix(N):\n",
    "    result = np.zeros((N,N))\n",
    "    nodes = build_nodes(N)\n",
    "    for i in range(N):\n",
    "        for j in range(N):\n",
    "            result[i,j] = K(nodes[i],nodes[j])*(1/N)\n",
    "    return result"
   ]
  },
  {
   "cell_type": "markdown",
   "metadata": {},
   "source": [
    "Построение значений u(x) в узлах квадратурной формулы средних прямоугольников при z(s)=1"
   ]
  },
  {
   "cell_type": "code",
   "execution_count": 6,
   "metadata": {},
   "outputs": [],
   "source": [
    "def build_right_part(N):\n",
    "    result = np.zeros((N,1))\n",
    "    nodes = build_nodes(N)\n",
    "    for i in range(N):\n",
    "            result[i] = u(nodes[i])\n",
    "    return result"
   ]
  },
  {
   "cell_type": "markdown",
   "metadata": {},
   "source": [
    "Решение СЛАУ методом регуляризации матрицы c параметром а:"
   ]
  },
  {
   "cell_type": "code",
   "execution_count": 7,
   "metadata": {},
   "outputs": [],
   "source": [
    "def build_solution(N,a):\n",
    "    C = build_matrix(N)\n",
    "    right = build_right_part(N)\n",
    "    return solve(np.transpose(C)@C+a*np.identity(N),np.transpose(C)@right)"
   ]
  },
  {
   "cell_type": "markdown",
   "metadata": {},
   "source": [
    "Рассмотрим погрешность при различных параметрах N (число узлов) и a (параметр метода регуляризации) и запишем результат в файл в виде таблицы."
   ]
  },
  {
   "cell_type": "code",
   "execution_count": 8,
   "metadata": {},
   "outputs": [],
   "source": [
    "N = 10\n",
    "ans = np.zeros((N,N+1))\n",
    "for i in range(1,N+1):\n",
    "    ans[i-1,0] = i*10\n",
    "headers = [r'n\\a']\n",
    "for j in range(6,6+N):\n",
    "    headers.append(10**(-j))\n",
    "residuals = []\n",
    "for i in range(1,1+N):\n",
    "    u0 = np.ones((N*i,1))\n",
    "    residuals.append(N*i)\n",
    "    for j in range(6,6+N):\n",
    "        solution = build_solution(N*i,10**(-j))\n",
    "        ans[i-1,j-5] = abs(u0-solution).max()"
   ]
  },
  {
   "cell_type": "code",
   "execution_count": 9,
   "metadata": {},
   "outputs": [],
   "source": [
    "res_table = tabulate(ans,headers=headers,\n",
    "               tablefmt='github',numalign=\"right\")\n",
    "with open('result3.txt','w') as file:\n",
    "    file.write(res_table)"
   ]
  },
  {
   "cell_type": "markdown",
   "metadata": {},
   "source": [
    "Посмотрим на индекс минимального элемента таблицы.\n",
    "Таким образом, наименьшая погрешность достигается при числе узлов N=100 и параметре а=1e-10, и именно они являются оптимальными параметрами для данной задачи."
   ]
  },
  {
   "cell_type": "code",
   "execution_count": 10,
   "metadata": {},
   "outputs": [
    {
     "data": {
      "text/plain": [
       "(9, 5)"
      ]
     },
     "execution_count": 10,
     "metadata": {},
     "output_type": "execute_result"
    }
   ],
   "source": [
    "ind = np.unravel_index(np.argmin(ans, axis=None), ans.shape)\n",
    "ind"
   ]
  },
  {
   "cell_type": "markdown",
   "metadata": {},
   "source": [
    "Сама погрешность:"
   ]
  },
  {
   "cell_type": "code",
   "execution_count": 11,
   "metadata": {},
   "outputs": [
    {
     "data": {
      "text/plain": [
       "0.00029388849221767543"
      ]
     },
     "execution_count": 11,
     "metadata": {},
     "output_type": "execute_result"
    }
   ],
   "source": [
    "ans[ind]"
   ]
  }
 ],
 "metadata": {
  "kernelspec": {
   "display_name": "Python 3",
   "language": "python",
   "name": "python3"
  },
  "language_info": {
   "codemirror_mode": {
    "name": "ipython",
    "version": 3
   },
   "file_extension": ".py",
   "mimetype": "text/x-python",
   "name": "python",
   "nbconvert_exporter": "python",
   "pygments_lexer": "ipython3",
   "version": "3.8.5"
  }
 },
 "nbformat": 4,
 "nbformat_minor": 4
}
