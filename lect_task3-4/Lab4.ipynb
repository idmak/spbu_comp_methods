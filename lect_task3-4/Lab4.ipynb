{
 "cells": [
  {
   "cell_type": "code",
   "execution_count": 3,
   "metadata": {},
   "outputs": [],
   "source": [
    "import math\n",
    "import numpy as np\n",
    "from tabulate import tabulate\n",
    "from numpy.linalg import solve\n",
    "from scipy.special import legendre, sh_legendre"
   ]
  },
  {
   "cell_type": "markdown",
   "metadata": {},
   "source": [
    "Вычисленный u(x) при z(s)=1"
   ]
  },
  {
   "cell_type": "code",
   "execution_count": 4,
   "metadata": {},
   "outputs": [],
   "source": [
    "def u(x):\n",
    "    return (math.cos(1-x)-math.cos(1))/x"
   ]
  },
  {
   "cell_type": "markdown",
   "metadata": {},
   "source": [
    "Ядро:"
   ]
  },
  {
   "cell_type": "code",
   "execution_count": 5,
   "metadata": {},
   "outputs": [],
   "source": [
    "def K(x,s):\n",
    "    return math.sin(1-x*s)"
   ]
  },
  {
   "cell_type": "markdown",
   "metadata": {},
   "source": [
    "Вычисление узлов для формулы средних прямоугольников:"
   ]
  },
  {
   "cell_type": "code",
   "execution_count": 6,
   "metadata": {},
   "outputs": [],
   "source": [
    "def build_nodes(N):\n",
    "    result = []\n",
    "    for i in range(N):\n",
    "        result.append(i/N+1/(2*N))\n",
    "    return result"
   ]
  },
  {
   "cell_type": "markdown",
   "metadata": {},
   "source": [
    "Вычисление Aw_k по квадратурной формуле средних прямоугольник с 20 узлами:"
   ]
  },
  {
   "cell_type": "code",
   "execution_count": 7,
   "metadata": {},
   "outputs": [],
   "source": [
    "def build_Aw_k(polynom_k):\n",
    "        nodes = build_nodes(20)\n",
    "        return lambda x: (1/20)*sum(K(x,t)*polynom_k(t) for t in nodes)   "
   ]
  },
  {
   "cell_type": "markdown",
   "metadata": {},
   "source": [
    "Вычисление скалярных произведений по квадратурной формуле средних прямоугольников с 20 узлами:"
   ]
  },
  {
   "cell_type": "code",
   "execution_count": 8,
   "metadata": {},
   "outputs": [],
   "source": [
    "def scalar_mult(fun1,fun2):\n",
    "    nodes = build_nodes(20)\n",
    "    return (1/20)*sum(fun1(x)*fun2(x) for x in nodes)"
   ]
  },
  {
   "cell_type": "markdown",
   "metadata": {},
   "source": [
    "Построение результирующей матрицы С:"
   ]
  },
  {
   "cell_type": "code",
   "execution_count": 9,
   "metadata": {},
   "outputs": [],
   "source": [
    "def build_matrix(N):\n",
    "    result = np.zeros((N,N))\n",
    "    w_k = [sh_legendre(i) for i in range(N)]\n",
    "    for i in range(N):\n",
    "        for j in range(N):\n",
    "            result[i,j] = scalar_mult(build_Aw_k(w_k[j]),w_k[i])\n",
    "    return result"
   ]
  },
  {
   "cell_type": "markdown",
   "metadata": {},
   "source": [
    "Построение правой части: "
   ]
  },
  {
   "cell_type": "code",
   "execution_count": 10,
   "metadata": {},
   "outputs": [],
   "source": [
    "def build_right_part(N):\n",
    "    result = np.zeros((N,1))\n",
    "    w_k = [sh_legendre(i) for i in range(N)]\n",
    "    for i in range(N):\n",
    "            result[i] = scalar_mult(u,w_k[i])\n",
    "    return result"
   ]
  },
  {
   "cell_type": "markdown",
   "metadata": {},
   "source": [
    "Нахождение решения методом регуляризации:"
   ]
  },
  {
   "cell_type": "code",
   "execution_count": 11,
   "metadata": {},
   "outputs": [],
   "source": [
    "def build_solution(N,a):\n",
    "    C = build_matrix(N)\n",
    "    right = build_right_part(N)\n",
    "    coefs = solve(np.transpose(C)@C+a*np.identity(N),np.transpose(C)@right)\n",
    "    return lambda x: sum(sh_legendre(i)(x)*coefs[i] for i in range(N))"
   ]
  },
  {
   "cell_type": "markdown",
   "metadata": {},
   "source": [
    "Функция, вычисляющая норму пространства L2[0;1]"
   ]
  },
  {
   "cell_type": "code",
   "execution_count": 12,
   "metadata": {},
   "outputs": [],
   "source": [
    "def norm(fun):\n",
    "    return scalar_mult(fun,fun)**(0.5)"
   ]
  },
  {
   "cell_type": "markdown",
   "metadata": {},
   "source": [
    "Построение таблицы погрешностей и запись в файл:"
   ]
  },
  {
   "cell_type": "code",
   "execution_count": 13,
   "metadata": {},
   "outputs": [],
   "source": [
    "N = 9\n",
    "ans = np.zeros((N,N+1))\n",
    "for i in range(N):\n",
    "    ans[i,0] = i+2\n",
    "headers = [r'n\\a']\n",
    "for j in range(6,6+N):\n",
    "    headers.append(10**(-j))\n",
    "for i in range(0,N):\n",
    "    for j in range(6,6+N):\n",
    "        solution = build_solution(i+1,10**(-j))\n",
    "        ans[i,j-5] = norm(lambda x: solution(x)-1)"
   ]
  },
  {
   "cell_type": "code",
   "execution_count": 14,
   "metadata": {},
   "outputs": [],
   "source": [
    "res_table = tabulate(ans,headers=headers,\n",
    "               tablefmt='github',numalign=\"right\")\n",
    "with open('result4.txt','w') as file:\n",
    "    file.write(res_table)"
   ]
  },
  {
   "cell_type": "markdown",
   "metadata": {},
   "source": [
    "Посмотрим на индекс минимального элемента таблицы. Таким образом, наименьшая погрешность достигается при числе полиномов Лагранжа n=2 и параметре а=1e-14, и именно они являются оптимальными параметрами для данной задачи."
   ]
  },
  {
   "cell_type": "code",
   "execution_count": 15,
   "metadata": {},
   "outputs": [
    {
     "data": {
      "text/plain": [
       "(0, 9)"
      ]
     },
     "execution_count": 15,
     "metadata": {},
     "output_type": "execute_result"
    }
   ],
   "source": [
    "ind = np.unravel_index(np.argmin(ans, axis=None), ans.shape)\n",
    "ind"
   ]
  },
  {
   "cell_type": "markdown",
   "metadata": {},
   "source": [
    "Сама погрешность:"
   ]
  },
  {
   "cell_type": "code",
   "execution_count": 17,
   "metadata": {},
   "outputs": [
    {
     "data": {
      "text/plain": [
       "2.9614667529709312e-05"
      ]
     },
     "execution_count": 17,
     "metadata": {},
     "output_type": "execute_result"
    }
   ],
   "source": [
    "ans[ind]"
   ]
  }
 ],
 "metadata": {
  "kernelspec": {
   "display_name": "Python 3",
   "language": "python",
   "name": "python3"
  },
  "language_info": {
   "codemirror_mode": {
    "name": "ipython",
    "version": 3
   },
   "file_extension": ".py",
   "mimetype": "text/x-python",
   "name": "python",
   "nbconvert_exporter": "python",
   "pygments_lexer": "ipython3",
   "version": "3.8.5"
  }
 },
 "nbformat": 4,
 "nbformat_minor": 4
}
