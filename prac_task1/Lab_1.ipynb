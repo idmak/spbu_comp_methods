{
 "cells": [
  {
   "cell_type": "code",
   "execution_count": 1,
   "metadata": {},
   "outputs": [],
   "source": [
    "import pandas as pd\n",
    "import numpy as np\n",
    "from numpy.linalg import solve, inv, det, norm, cond\n",
    "from scipy.linalg import hilbert"
   ]
  },
  {
   "cell_type": "code",
   "execution_count": 2,
   "metadata": {},
   "outputs": [],
   "source": [
    "def spectrum_criterion(matrix): #спектральный критерий\n",
    "    return norm(matrix)*norm(inv(matrix))"
   ]
  },
  {
   "cell_type": "code",
   "execution_count": 3,
   "metadata": {},
   "outputs": [],
   "source": [
    "def volume_criterion(matrix): #критерий Ортеги\n",
    "    vol = 1\n",
    "    for n in range(matrix.shape[0]):\n",
    "        vol *= norm(matrix[n])\n",
    "    return vol/abs(det(matrix))"
   ]
  },
  {
   "cell_type": "code",
   "execution_count": 4,
   "metadata": {},
   "outputs": [],
   "source": [
    "def angle_criterion(matrix): #угловой критерий\n",
    "    C = inv(matrix)\n",
    "    return max([norm(a_n)*norm(c_n) for a_n, c_n in zip(matrix,np.transpose(C))])"
   ]
  },
  {
   "cell_type": "code",
   "execution_count": 5,
   "metadata": {},
   "outputs": [],
   "source": [
    "def conds(matrix):\n",
    "    return(spectrum_criterion(matrix),volume_criterion(matrix),angle_criterion(matrix))"
   ]
  },
  {
   "cell_type": "code",
   "execution_count": 6,
   "metadata": {},
   "outputs": [],
   "source": [
    "def diag_dominant_matrix(a_ii,n):\n",
    "    ans = np.zeros([n,n])\n",
    "    for i in range(n):\n",
    "        for j in range(n):\n",
    "            if i==j:\n",
    "                ans[i,j] = a_ii\n",
    "            if i==j-1 or i==j+1:\n",
    "                ans[i,j] = -1\n",
    "    return ans"
   ]
  },
  {
   "cell_type": "markdown",
   "metadata": {},
   "source": [
    "Матрицы из методички А.Н. Пакулиной:"
   ]
  },
  {
   "cell_type": "code",
   "execution_count": 7,
   "metadata": {},
   "outputs": [],
   "source": [
    "X1 = np.array([[-401.64, 200.12], \n",
    "               [21200.72,  -601.76]]) \n",
    "\n",
    "X2 = np.array([[-400.94, 200.02],\n",
    "               [1200.12, -600.96]])"
   ]
  },
  {
   "cell_type": "markdown",
   "metadata": {},
   "source": [
    "Свои матрицы:"
   ]
  },
  {
   "cell_type": "code",
   "execution_count": 8,
   "metadata": {},
   "outputs": [],
   "source": [
    "X3 = np.array([[3,4],\n",
    "              [4,1]])\n",
    "\n",
    "X4 = np.array([\n",
    "    [0.1,0.2,0.3],\n",
    "    [0.1,0.1,0.1],\n",
    "    [0.4,0.9,0.7]])"
   ]
  },
  {
   "cell_type": "code",
   "execution_count": 9,
   "metadata": {},
   "outputs": [],
   "source": [
    "matrixes = [X1,X2,diag_dominant_matrix(4,3),diag_dominant_matrix(2,5),hilbert(4),hilbert(5),X3,X4]"
   ]
  },
  {
   "cell_type": "code",
   "execution_count": 37,
   "metadata": {},
   "outputs": [],
   "source": [
    "def solution(matrix):\n",
    "    res = []\n",
    "    b = np.random.uniform(-100,100,size=matrix.shape[0])\n",
    "    sol = solve(matrix,b)\n",
    "    for i in (-2,-5,-8):\n",
    "        res.append(norm(solve(matrix-10**(i),b - 10**(i))-sol))\n",
    "    return sol,res"
   ]
  },
  {
   "cell_type": "code",
   "execution_count": 38,
   "metadata": {},
   "outputs": [
    {
     "data": {
      "text/html": [
       "<div>\n",
       "<style scoped>\n",
       "    .dataframe tbody tr th:only-of-type {\n",
       "        vertical-align: middle;\n",
       "    }\n",
       "\n",
       "    .dataframe tbody tr th {\n",
       "        vertical-align: top;\n",
       "    }\n",
       "\n",
       "    .dataframe thead th {\n",
       "        text-align: right;\n",
       "    }\n",
       "</style>\n",
       "<table border=\"1\" class=\"dataframe\">\n",
       "  <thead>\n",
       "    <tr style=\"text-align: right;\">\n",
       "      <th></th>\n",
       "      <th>Спектральный критерий</th>\n",
       "      <th>Критерий Ортеги</th>\n",
       "      <th>Угловой критерий</th>\n",
       "      <th>eps=10^(-2)</th>\n",
       "      <th>eps=10^(-5)</th>\n",
       "      <th>eps=10^(-8)</th>\n",
       "    </tr>\n",
       "  </thead>\n",
       "  <tbody>\n",
       "    <tr>\n",
       "      <th>X1</th>\n",
       "      <td>112.480460</td>\n",
       "      <td>2.378739e+00</td>\n",
       "      <td>2.378739</td>\n",
       "      <td>0.000049</td>\n",
       "      <td>4.882768e-08</td>\n",
       "      <td>4.882768e-11</td>\n",
       "    </tr>\n",
       "    <tr>\n",
       "      <th>X2</th>\n",
       "      <td>2222.446243</td>\n",
       "      <td>6.675334e+02</td>\n",
       "      <td>667.533363</td>\n",
       "      <td>1.328946</td>\n",
       "      <td>1.364343e-03</td>\n",
       "      <td>1.364379e-06</td>\n",
       "    </tr>\n",
       "    <tr>\n",
       "      <th>diag_dominant_matrix(4,3)</th>\n",
       "      <td>3.577851</td>\n",
       "      <td>1.287944e+00</td>\n",
       "      <td>1.285714</td>\n",
       "      <td>0.389176</td>\n",
       "      <td>3.847329e-04</td>\n",
       "      <td>3.847285e-07</td>\n",
       "    </tr>\n",
       "    <tr>\n",
       "      <th>diag_dominant_matrix(2,5)</th>\n",
       "      <td>20.739120</td>\n",
       "      <td>1.224745e+01</td>\n",
       "      <td>5.338539</td>\n",
       "      <td>52.005946</td>\n",
       "      <td>4.291242e-02</td>\n",
       "      <td>4.290491e-05</td>\n",
       "    </tr>\n",
       "    <tr>\n",
       "      <th>hilbert(4)</th>\n",
       "      <td>15613.793560</td>\n",
       "      <td>9.370859e+05</td>\n",
       "      <td>4020.913453</td>\n",
       "      <td>14263.227543</td>\n",
       "      <td>1.198303e+01</td>\n",
       "      <td>1.198109e-02</td>\n",
       "    </tr>\n",
       "    <tr>\n",
       "      <th>hilbert(5)</th>\n",
       "      <td>480849.116995</td>\n",
       "      <td>1.608573e+10</td>\n",
       "      <td>95157.699889</td>\n",
       "      <td>871697.776800</td>\n",
       "      <td>6.539369e+02</td>\n",
       "      <td>6.537502e-01</td>\n",
       "    </tr>\n",
       "    <tr>\n",
       "      <th>X3</th>\n",
       "      <td>3.230769</td>\n",
       "      <td>1.585810e+00</td>\n",
       "      <td>1.585810</td>\n",
       "      <td>0.047564</td>\n",
       "      <td>4.741775e-05</td>\n",
       "      <td>4.741760e-08</td>\n",
       "    </tr>\n",
       "    <tr>\n",
       "      <th>X4</th>\n",
       "      <td>28.196468</td>\n",
       "      <td>1.118673e+01</td>\n",
       "      <td>4.228185</td>\n",
       "      <td>87.118265</td>\n",
       "      <td>7.841428e-02</td>\n",
       "      <td>7.840645e-05</td>\n",
       "    </tr>\n",
       "  </tbody>\n",
       "</table>\n",
       "</div>"
      ],
      "text/plain": [
       "                           Спектральный критерий  Критерий Ортеги  \\\n",
       "X1                                    112.480460     2.378739e+00   \n",
       "X2                                   2222.446243     6.675334e+02   \n",
       "diag_dominant_matrix(4,3)               3.577851     1.287944e+00   \n",
       "diag_dominant_matrix(2,5)              20.739120     1.224745e+01   \n",
       "hilbert(4)                          15613.793560     9.370859e+05   \n",
       "hilbert(5)                         480849.116995     1.608573e+10   \n",
       "X3                                      3.230769     1.585810e+00   \n",
       "X4                                     28.196468     1.118673e+01   \n",
       "\n",
       "                           Угловой критерий    eps=10^(-2)   eps=10^(-5)  \\\n",
       "X1                                 2.378739       0.000049  4.882768e-08   \n",
       "X2                               667.533363       1.328946  1.364343e-03   \n",
       "diag_dominant_matrix(4,3)          1.285714       0.389176  3.847329e-04   \n",
       "diag_dominant_matrix(2,5)          5.338539      52.005946  4.291242e-02   \n",
       "hilbert(4)                      4020.913453   14263.227543  1.198303e+01   \n",
       "hilbert(5)                     95157.699889  871697.776800  6.539369e+02   \n",
       "X3                                 1.585810       0.047564  4.741775e-05   \n",
       "X4                                 4.228185      87.118265  7.841428e-02   \n",
       "\n",
       "                            eps=10^(-8)  \n",
       "X1                         4.882768e-11  \n",
       "X2                         1.364379e-06  \n",
       "diag_dominant_matrix(4,3)  3.847285e-07  \n",
       "diag_dominant_matrix(2,5)  4.290491e-05  \n",
       "hilbert(4)                 1.198109e-02  \n",
       "hilbert(5)                 6.537502e-01  \n",
       "X3                         4.741760e-08  \n",
       "X4                         7.840645e-05  "
      ]
     },
     "execution_count": 38,
     "metadata": {},
     "output_type": "execute_result"
    }
   ],
   "source": [
    "X = pd.DataFrame(columns=['Спектральный критерий','Критерий Ортеги','Угловой критерий','eps=10^(-2)','eps=10^(-5)','eps=10^(-8)'])\n",
    "\n",
    "for matrix in matrixes:\n",
    "    row = []\n",
    "    row.extend(conds(matrix))\n",
    "    row.extend(solution(matrix)[1])\n",
    "    row_series = pd.Series(row,index=X.columns)\n",
    "    X = X.append(row_series,True)\n",
    "    \n",
    "X.index = ['X1','X2','diag_dominant_matrix(4,3)','diag_dominant_matrix(2,5)','hilbert(4)','hilbert(5)','X3','X4']\n",
    "\n",
    "X"
   ]
  }
 ],
 "metadata": {
  "kernelspec": {
   "display_name": "Python 3",
   "language": "python",
   "name": "python3"
  },
  "language_info": {
   "codemirror_mode": {
    "name": "ipython",
    "version": 3
   },
   "file_extension": ".py",
   "mimetype": "text/x-python",
   "name": "python",
   "nbconvert_exporter": "python",
   "pygments_lexer": "ipython3",
   "version": "3.8.5"
  }
 },
 "nbformat": 4,
 "nbformat_minor": 4
}
