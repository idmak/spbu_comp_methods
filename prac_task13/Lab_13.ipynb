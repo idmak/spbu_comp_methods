{
 "cells": [
  {
   "cell_type": "code",
   "execution_count": 212,
   "metadata": {},
   "outputs": [],
   "source": [
    "import numpy as np\n",
    "import pandas as pd\n",
    "from math import cos,pi"
   ]
  },
  {
   "cell_type": "code",
   "execution_count": 213,
   "metadata": {},
   "outputs": [],
   "source": [
    "def monte_carlo(N,p=\"uniform\",):\n",
    "    X = []\n",
    "    if p == \"uniform\":\n",
    "        X = np.random.uniform(a,b,N)\n",
    "        return ((b-a)/N)*np.sum(np.array([g(x) for x in X]))\n",
    "    if p == \"linear\":\n",
    "        while (len(X)<N):\n",
    "            point = np.random.uniform(0,1,2)\n",
    "            x0,y0= a+point[0]*(b-a),point[1]*(4/pi)\n",
    "            if (0<=y0<=linear_p(x0)):\n",
    "                X.append(x0)\n",
    "    X = np.array(X)\n",
    "    return (1/N)*np.sum(np.array([g(x)/linear_p(x) for x in X]))\n",
    "   "
   ]
  },
  {
   "cell_type": "code",
   "execution_count": 230,
   "metadata": {},
   "outputs": [],
   "source": [
    "def monte_carlo_square(N):\n",
    "    k=0\n",
    "    X = np.array([(np.random.uniform(a,b), np.random.uniform(0, 1)) for i in range(N)])\n",
    "    for i in range(N):\n",
    "        if X[i,1] <= g(X[i,0]):\n",
    "            k+=1\n",
    "    return (k/N)*(pi/2)"
   ]
  },
  {
   "cell_type": "code",
   "execution_count": 231,
   "metadata": {},
   "outputs": [],
   "source": [
    "def g(x):\n",
    "    return cos(x)\n",
    "\n",
    "a,b = 0,pi/2"
   ]
  },
  {
   "cell_type": "code",
   "execution_count": 232,
   "metadata": {},
   "outputs": [],
   "source": [
    "def linear_p(x):\n",
    "    return 4/pi-(8*x)/pi**2"
   ]
  },
  {
   "cell_type": "code",
   "execution_count": 236,
   "metadata": {},
   "outputs": [
    {
     "data": {
      "text/html": [
       "<div>\n",
       "<style scoped>\n",
       "    .dataframe tbody tr th:only-of-type {\n",
       "        vertical-align: middle;\n",
       "    }\n",
       "\n",
       "    .dataframe tbody tr th {\n",
       "        vertical-align: top;\n",
       "    }\n",
       "\n",
       "    .dataframe thead th {\n",
       "        text-align: right;\n",
       "    }\n",
       "</style>\n",
       "<table border=\"1\" class=\"dataframe\">\n",
       "  <thead>\n",
       "    <tr style=\"text-align: right;\">\n",
       "      <th></th>\n",
       "      <th>N</th>\n",
       "      <th>Равномерная плотность</th>\n",
       "      <th>Линейная плотность</th>\n",
       "      <th>Площадь</th>\n",
       "    </tr>\n",
       "  </thead>\n",
       "  <tbody>\n",
       "    <tr>\n",
       "      <th>0</th>\n",
       "      <td>100.0</td>\n",
       "      <td>0.054742</td>\n",
       "      <td>6.606949e-03</td>\n",
       "      <td>0.021018</td>\n",
       "    </tr>\n",
       "    <tr>\n",
       "      <th>1</th>\n",
       "      <td>1000.0</td>\n",
       "      <td>0.017455</td>\n",
       "      <td>8.031963e-03</td>\n",
       "      <td>0.000974</td>\n",
       "    </tr>\n",
       "    <tr>\n",
       "      <th>2</th>\n",
       "      <td>10000.0</td>\n",
       "      <td>0.002648</td>\n",
       "      <td>2.172157e-03</td>\n",
       "      <td>0.002073</td>\n",
       "    </tr>\n",
       "    <tr>\n",
       "      <th>3</th>\n",
       "      <td>100000.0</td>\n",
       "      <td>0.000819</td>\n",
       "      <td>2.729604e-07</td>\n",
       "      <td>0.001540</td>\n",
       "    </tr>\n",
       "  </tbody>\n",
       "</table>\n",
       "</div>"
      ],
      "text/plain": [
       "          N  Равномерная плотность  Линейная плотность   Площадь\n",
       "0     100.0               0.054742        6.606949e-03  0.021018\n",
       "1    1000.0               0.017455        8.031963e-03  0.000974\n",
       "2   10000.0               0.002648        2.172157e-03  0.002073\n",
       "3  100000.0               0.000819        2.729604e-07  0.001540"
      ]
     },
     "execution_count": 236,
     "metadata": {},
     "output_type": "execute_result"
    }
   ],
   "source": [
    "ans = pd.DataFrame(columns=[\"N\",\"Равномерная плотность\",\"Линейная плотность\",\"Площадь\"])\n",
    "for i in range(2,6):\n",
    "    row = [10**(i),abs(1-monte_carlo(10**(i))),abs(1-monte_carlo(10**(i),\"linear\")),abs(1-monte_carlo_square(10**(i)))]\n",
    "    ans = ans.append(pd.Series(row,index=ans.columns),True)\n",
    "ans"
   ]
  },
  {
   "cell_type": "code",
   "execution_count": 227,
   "metadata": {},
   "outputs": [
    {
     "data": {
      "text/plain": [
       "1.0304423903774522"
      ]
     },
     "execution_count": 227,
     "metadata": {},
     "output_type": "execute_result"
    },
    {
     "data": {
      "image/png": "[encoded data removed]",
      "text/plain": [
       "<Figure size 432x288 with 1 Axes>"
      ]
     },
     "metadata": {
      "needs_background": "light"
     },
     "output_type": "display_data"
    }
   ],
   "source": [
    "monte_carlo_square(1000)"
   ]
  }
 ],
 "metadata": {
  "kernelspec": {
   "display_name": "Python 3",
   "language": "python",
   "name": "python3"
  },
  "language_info": {
   "codemirror_mode": {
    "name": "ipython",
    "version": 3
   },
   "file_extension": ".py",
   "mimetype": "text/x-python",
   "name": "python",
   "nbconvert_exporter": "python",
   "pygments_lexer": "ipython3",
   "version": "3.8.5"
  }
 },
 "nbformat": 4,
 "nbformat_minor": 4
}
