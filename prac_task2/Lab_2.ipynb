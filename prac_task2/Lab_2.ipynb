{
 "cells": [
  {
   "cell_type": "code",
   "execution_count": 55,
   "metadata": {},
   "outputs": [],
   "source": [
    "import numpy as np\n",
    "import pandas as pd\n",
    "from numpy.linalg import solve, norm, cond\n",
    "from scipy.linalg import hilbert"
   ]
  },
  {
   "cell_type": "code",
   "execution_count": 2,
   "metadata": {},
   "outputs": [],
   "source": [
    "def lu(a): #алгоритм LU-декомпозиции\n",
    "    n = a.shape[0]\n",
    "    l = np.identity(n)\n",
    "    u = np.zeros([n,n])\n",
    "    for i in range(n):\n",
    "        for j in range(n):\n",
    "            if i <= j:\n",
    "                u[i,j] = a[i,j]-sum([l[i,k]*u[k,j] for k in range(i)])\n",
    "            else:\n",
    "                l[i,j] = (a[i,j]-sum([l[i,k]*u[k,j] for k in range(j)]))/u[j,j]\n",
    "    return l,u"
   ]
  },
  {
   "cell_type": "code",
   "execution_count": 45,
   "metadata": {},
   "outputs": [],
   "source": [
    "def lu_solve(l,u,b=None): #решение СЛАУ LU-методом\n",
    "    if b is None:\n",
    "        b = np.random.uniform(-100,100,size=(u.shape[1]))\n",
    "    y = np.zeros(l.shape[1])\n",
    "    x = np.zeros(u.shape[1])\n",
    "    n = len(x)\n",
    "    for i in range(len(y)):\n",
    "        y[i] = b[i] - sum([l[i,p]*y[p] for p in range(i)])\n",
    "    for j in range(len(x)):\n",
    "        x[n-j-1]=(y[n-j-1]-sum([u[n-j-1,n-p-1]*x[n-p-1] for p in range(j)]))/u[n-j-1,n-j-1]\n",
    "    return x\n",
    "            "
   ]
  },
  {
   "cell_type": "markdown",
   "metadata": {},
   "source": [
    "Проверим, что решения, полученные lu-методом, совпадают с решением системы:"
   ]
  },
  {
   "cell_type": "code",
   "execution_count": 95,
   "metadata": {},
   "outputs": [],
   "source": [
    "a = np.random.rand(2,2)\n",
    "b = np.random.rand(2)"
   ]
  },
  {
   "cell_type": "code",
   "execution_count": 96,
   "metadata": {},
   "outputs": [
    {
     "data": {
      "text/plain": [
       "0.0"
      ]
     },
     "execution_count": 96,
     "metadata": {},
     "output_type": "execute_result"
    }
   ],
   "source": [
    "l,u = lu(a)\n",
    "norm(solve(a,b)-lu_solve(l,u,b))"
   ]
  },
  {
   "cell_type": "code",
   "execution_count": 56,
   "metadata": {},
   "outputs": [],
   "source": [
    "matrixes = [hilbert(n) for n in range(3,6)]"
   ]
  },
  {
   "cell_type": "code",
   "execution_count": 114,
   "metadata": {},
   "outputs": [],
   "source": [
    "def regularisation_solution(a,b=None):\n",
    "    if b is None:\n",
    "        b = np.random.uniform(-100,100,size=(a.shape[1]))\n",
    "    ans = pd.DataFrame(columns=[\"alpha\",\"cond(a+alpha*E)\",\"||x-x_alpha||\"])\n",
    "    l,u = lu(a)\n",
    "    x = lu_solve(l,u,b)\n",
    "    ans = ans.append(pd.Series([0,cond(a),0],index=ans.columns),True)\n",
    "    E = np.identity(a.shape[0])\n",
    "    for i in range(2,13,2):\n",
    "        a_i = a + 10**(-i)*E\n",
    "        l,u = lu(a_i)\n",
    "        x_i = lu_solve(l,u,b)\n",
    "        ans = ans.append(pd.Series([10**(-i),cond(a_i),norm(x_i-x)],index=ans.columns),True)\n",
    "    return ans"
   ]
  },
  {
   "cell_type": "code",
   "execution_count": 125,
   "metadata": {},
   "outputs": [
    {
     "data": {
      "text/html": [
       "<div>\n",
       "<style scoped>\n",
       "    .dataframe tbody tr th:only-of-type {\n",
       "        vertical-align: middle;\n",
       "    }\n",
       "\n",
       "    .dataframe tbody tr th {\n",
       "        vertical-align: top;\n",
       "    }\n",
       "\n",
       "    .dataframe thead th {\n",
       "        text-align: right;\n",
       "    }\n",
       "</style>\n",
       "<table border=\"1\" class=\"dataframe\">\n",
       "  <thead>\n",
       "    <tr style=\"text-align: right;\">\n",
       "      <th></th>\n",
       "      <th>alpha</th>\n",
       "      <th>cond(a+alpha*E)</th>\n",
       "      <th>||x-x_alpha||</th>\n",
       "    </tr>\n",
       "  </thead>\n",
       "  <tbody>\n",
       "    <tr>\n",
       "      <th>0</th>\n",
       "      <td>0.000000e+00</td>\n",
       "      <td>524.056778</td>\n",
       "      <td>0.000000</td>\n",
       "    </tr>\n",
       "    <tr>\n",
       "      <th>1</th>\n",
       "      <td>1.000000e-02</td>\n",
       "      <td>111.790091</td>\n",
       "      <td>16221.907429</td>\n",
       "    </tr>\n",
       "    <tr>\n",
       "      <th>2</th>\n",
       "      <td>1.000000e-04</td>\n",
       "      <td>505.291334</td>\n",
       "      <td>738.383159</td>\n",
       "    </tr>\n",
       "    <tr>\n",
       "      <th>3</th>\n",
       "      <td>1.000000e-06</td>\n",
       "      <td>523.862213</td>\n",
       "      <td>7.655746</td>\n",
       "    </tr>\n",
       "    <tr>\n",
       "      <th>4</th>\n",
       "      <td>1.000000e-08</td>\n",
       "      <td>524.054831</td>\n",
       "      <td>0.076586</td>\n",
       "    </tr>\n",
       "    <tr>\n",
       "      <th>5</th>\n",
       "      <td>1.000000e-10</td>\n",
       "      <td>524.056758</td>\n",
       "      <td>0.000766</td>\n",
       "    </tr>\n",
       "    <tr>\n",
       "      <th>6</th>\n",
       "      <td>1.000000e-12</td>\n",
       "      <td>524.056777</td>\n",
       "      <td>0.000008</td>\n",
       "    </tr>\n",
       "  </tbody>\n",
       "</table>\n",
       "</div>"
      ],
      "text/plain": [
       "          alpha  cond(a+alpha*E)  ||x-x_alpha||\n",
       "0  0.000000e+00       524.056778       0.000000\n",
       "1  1.000000e-02       111.790091   16221.907429\n",
       "2  1.000000e-04       505.291334     738.383159\n",
       "3  1.000000e-06       523.862213       7.655746\n",
       "4  1.000000e-08       524.054831       0.076586\n",
       "5  1.000000e-10       524.056758       0.000766\n",
       "6  1.000000e-12       524.056777       0.000008"
      ]
     },
     "execution_count": 125,
     "metadata": {},
     "output_type": "execute_result"
    }
   ],
   "source": [
    "regularisation_solution(matrixes[0]) #результат для матрицы Гильберта 3-го порядка"
   ]
  },
  {
   "cell_type": "code",
   "execution_count": 127,
   "metadata": {},
   "outputs": [
    {
     "data": {
      "text/html": [
       "<div>\n",
       "<style scoped>\n",
       "    .dataframe tbody tr th:only-of-type {\n",
       "        vertical-align: middle;\n",
       "    }\n",
       "\n",
       "    .dataframe tbody tr th {\n",
       "        vertical-align: top;\n",
       "    }\n",
       "\n",
       "    .dataframe thead th {\n",
       "        text-align: right;\n",
       "    }\n",
       "</style>\n",
       "<table border=\"1\" class=\"dataframe\">\n",
       "  <thead>\n",
       "    <tr style=\"text-align: right;\">\n",
       "      <th></th>\n",
       "      <th>alpha</th>\n",
       "      <th>cond(a+alpha*E)</th>\n",
       "      <th>||x-x_alpha||</th>\n",
       "    </tr>\n",
       "  </thead>\n",
       "  <tbody>\n",
       "    <tr>\n",
       "      <th>0</th>\n",
       "      <td>0.000000e+00</td>\n",
       "      <td>15513.738739</td>\n",
       "      <td>0.000000</td>\n",
       "    </tr>\n",
       "    <tr>\n",
       "      <th>1</th>\n",
       "      <td>1.000000e-02</td>\n",
       "      <td>149.575003</td>\n",
       "      <td>199263.868834</td>\n",
       "    </tr>\n",
       "    <tr>\n",
       "      <th>2</th>\n",
       "      <td>1.000000e-04</td>\n",
       "      <td>7627.334553</td>\n",
       "      <td>102257.412178</td>\n",
       "    </tr>\n",
       "    <tr>\n",
       "      <th>3</th>\n",
       "      <td>1.000000e-06</td>\n",
       "      <td>15354.963172</td>\n",
       "      <td>2058.729382</td>\n",
       "    </tr>\n",
       "    <tr>\n",
       "      <th>4</th>\n",
       "      <td>1.000000e-08</td>\n",
       "      <td>15512.134730</td>\n",
       "      <td>20.798036</td>\n",
       "    </tr>\n",
       "    <tr>\n",
       "      <th>5</th>\n",
       "      <td>1.000000e-10</td>\n",
       "      <td>15513.722697</td>\n",
       "      <td>0.208002</td>\n",
       "    </tr>\n",
       "    <tr>\n",
       "      <th>6</th>\n",
       "      <td>1.000000e-12</td>\n",
       "      <td>15513.738579</td>\n",
       "      <td>0.002080</td>\n",
       "    </tr>\n",
       "  </tbody>\n",
       "</table>\n",
       "</div>"
      ],
      "text/plain": [
       "          alpha  cond(a+alpha*E)  ||x-x_alpha||\n",
       "0  0.000000e+00     15513.738739       0.000000\n",
       "1  1.000000e-02       149.575003  199263.868834\n",
       "2  1.000000e-04      7627.334553  102257.412178\n",
       "3  1.000000e-06     15354.963172    2058.729382\n",
       "4  1.000000e-08     15512.134730      20.798036\n",
       "5  1.000000e-10     15513.722697       0.208002\n",
       "6  1.000000e-12     15513.738579       0.002080"
      ]
     },
     "execution_count": 127,
     "metadata": {},
     "output_type": "execute_result"
    }
   ],
   "source": [
    "regularisation_solution(matrixes[1]) #результат для матрицы Гильберта 4-го порядка"
   ]
  },
  {
   "cell_type": "code",
   "execution_count": 128,
   "metadata": {},
   "outputs": [
    {
     "data": {
      "text/html": [
       "<div>\n",
       "<style scoped>\n",
       "    .dataframe tbody tr th:only-of-type {\n",
       "        vertical-align: middle;\n",
       "    }\n",
       "\n",
       "    .dataframe tbody tr th {\n",
       "        vertical-align: top;\n",
       "    }\n",
       "\n",
       "    .dataframe thead th {\n",
       "        text-align: right;\n",
       "    }\n",
       "</style>\n",
       "<table border=\"1\" class=\"dataframe\">\n",
       "  <thead>\n",
       "    <tr style=\"text-align: right;\">\n",
       "      <th></th>\n",
       "      <th>alpha</th>\n",
       "      <th>cond(a+alpha*E)</th>\n",
       "      <th>||x-x_alpha||</th>\n",
       "    </tr>\n",
       "  </thead>\n",
       "  <tbody>\n",
       "    <tr>\n",
       "      <th>0</th>\n",
       "      <td>0.000000e+00</td>\n",
       "      <td>476607.250242</td>\n",
       "      <td>0.000000e+00</td>\n",
       "    </tr>\n",
       "    <tr>\n",
       "      <th>1</th>\n",
       "      <td>1.000000e-02</td>\n",
       "      <td>157.653234</td>\n",
       "      <td>1.485127e+07</td>\n",
       "    </tr>\n",
       "    <tr>\n",
       "      <th>2</th>\n",
       "      <td>1.000000e-04</td>\n",
       "      <td>15172.641273</td>\n",
       "      <td>1.438316e+07</td>\n",
       "    </tr>\n",
       "    <tr>\n",
       "      <th>3</th>\n",
       "      <td>1.000000e-06</td>\n",
       "      <td>365456.558250</td>\n",
       "      <td>3.464624e+06</td>\n",
       "    </tr>\n",
       "    <tr>\n",
       "      <th>4</th>\n",
       "      <td>1.000000e-08</td>\n",
       "      <td>475162.081827</td>\n",
       "      <td>4.504664e+04</td>\n",
       "    </tr>\n",
       "    <tr>\n",
       "      <th>5</th>\n",
       "      <td>1.000000e-10</td>\n",
       "      <td>476592.755044</td>\n",
       "      <td>4.518228e+02</td>\n",
       "    </tr>\n",
       "    <tr>\n",
       "      <th>6</th>\n",
       "      <td>1.000000e-12</td>\n",
       "      <td>476607.105284</td>\n",
       "      <td>4.518322e+00</td>\n",
       "    </tr>\n",
       "  </tbody>\n",
       "</table>\n",
       "</div>"
      ],
      "text/plain": [
       "          alpha  cond(a+alpha*E)  ||x-x_alpha||\n",
       "0  0.000000e+00    476607.250242   0.000000e+00\n",
       "1  1.000000e-02       157.653234   1.485127e+07\n",
       "2  1.000000e-04     15172.641273   1.438316e+07\n",
       "3  1.000000e-06    365456.558250   3.464624e+06\n",
       "4  1.000000e-08    475162.081827   4.504664e+04\n",
       "5  1.000000e-10    476592.755044   4.518228e+02\n",
       "6  1.000000e-12    476607.105284   4.518322e+00"
      ]
     },
     "execution_count": 128,
     "metadata": {},
     "output_type": "execute_result"
    }
   ],
   "source": [
    "regularisation_solution(matrixes[2]) #результат для матрицы Гильберта 5-го порядка"
   ]
  }
 ],
 "metadata": {
  "kernelspec": {
   "display_name": "Python 3",
   "language": "python",
   "name": "python3"
  },
  "language_info": {
   "codemirror_mode": {
    "name": "ipython",
    "version": 3
   },
   "file_extension": ".py",
   "mimetype": "text/x-python",
   "name": "python",
   "nbconvert_exporter": "python",
   "pygments_lexer": "ipython3",
   "version": "3.8.5"
  }
 },
 "nbformat": 4,
 "nbformat_minor": 4
}
