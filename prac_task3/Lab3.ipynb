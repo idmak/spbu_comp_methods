{
 "cells": [
  {
   "cell_type": "code",
   "execution_count": 65,
   "metadata": {},
   "outputs": [],
   "source": [
    "import numpy as np\n",
    "import copy\n",
    "import pandas as pd\n",
    "from numpy.linalg import solve, norm,cond\n",
    "from scipy.linalg import hilbert"
   ]
  },
  {
   "cell_type": "code",
   "execution_count": 74,
   "metadata": {},
   "outputs": [],
   "source": [
    "def qr(a): #алгоритм QR-разложения методом вращений\n",
    "    n = a.shape[0]\n",
    "    q, r = np.identity(n), copy.copy(a)\n",
    "    for i in range(n):\n",
    "        for j in range(i+1,n):\n",
    "            c = r[i,i]/(r[i,i]**2 + (r[j,i]**2))**0.5\n",
    "            s = r[j,i]/(r[i,i]**2 + (r[j,i]**2))**0.5\n",
    "            r[i,:], r[j,:] = c*r[i,:] + s*r[j,:], -s*r[i,:] + c*r[j,:]\n",
    "            q[:,i], q[:,j] = c*q[:,i] + s*q[:,j], -s*q[:,i] + c*q[:,j]\n",
    "    return q,r"
   ]
  },
  {
   "cell_type": "code",
   "execution_count": 39,
   "metadata": {},
   "outputs": [],
   "source": [
    "def qr_solve(q,r,b=None): #решение СЛАУ QR-методом\n",
    "    if b is None:\n",
    "        b = np.random.uniform(-100,100,size=(q.shape[0]))\n",
    "    n = r.shape[1]\n",
    "    x, y = np.zeros(n), np.transpose(q) @ b\n",
    "    for j in range(len(y)):\n",
    "        x[n-j-1]=(y[n-j-1]-sum([r[n-j-1,n-p-1]*x[n-p-1] for p in range(j)]))/r[n-j-1,n-j-1]\n",
    "    return x"
   ]
  },
  {
   "cell_type": "markdown",
   "metadata": {},
   "source": [
    "Проверим, что решения, полученные qr-методом, совпадают с решением системы:"
   ]
  },
  {
   "cell_type": "code",
   "execution_count": 53,
   "metadata": {},
   "outputs": [],
   "source": [
    "a = np.random.rand(2,2)\n",
    "b = np.random.rand(2)"
   ]
  },
  {
   "cell_type": "code",
   "execution_count": 54,
   "metadata": {},
   "outputs": [
    {
     "data": {
      "text/plain": [
       "1.3092278833360675e-16"
      ]
     },
     "execution_count": 54,
     "metadata": {},
     "output_type": "execute_result"
    }
   ],
   "source": [
    "q,r = qr(a)\n",
    "norm(solve(a,b)-qr_solve(q,r,b))"
   ]
  },
  {
   "cell_type": "code",
   "execution_count": 55,
   "metadata": {},
   "outputs": [],
   "source": [
    "matrixes = [hilbert(n) for n in range(3,6)]"
   ]
  },
  {
   "cell_type": "code",
   "execution_count": 68,
   "metadata": {},
   "outputs": [],
   "source": [
    "def regularisation_solution(a,b=None):\n",
    "    if b is None:\n",
    "        b = np.random.uniform(-100,100,size=(a.shape[1]))\n",
    "    ans = pd.DataFrame(columns=[\"alpha\",\"cond(a+alpha*E)\",\"||x-x_alpha||\"])\n",
    "    q,r = qr(a)\n",
    "    x = qr_solve(q,r,b)\n",
    "    ans = ans.append(pd.Series([0,cond(a),0],index=ans.columns),True)\n",
    "    E = np.identity(a.shape[0])\n",
    "    for i in range(2,13,2):\n",
    "        a_i = a + 10**(-i)*E\n",
    "        q,r = qr(a_i)\n",
    "        x_i = qr_solve(q,r,b)\n",
    "        ans = ans.append(pd.Series([10**(-i),cond(a_i),norm(x_i-x)],index=ans.columns),True)\n",
    "    return ans"
   ]
  },
  {
   "cell_type": "code",
   "execution_count": 69,
   "metadata": {},
   "outputs": [
    {
     "data": {
      "text/html": [
       "<div>\n",
       "<style scoped>\n",
       "    .dataframe tbody tr th:only-of-type {\n",
       "        vertical-align: middle;\n",
       "    }\n",
       "\n",
       "    .dataframe tbody tr th {\n",
       "        vertical-align: top;\n",
       "    }\n",
       "\n",
       "    .dataframe thead th {\n",
       "        text-align: right;\n",
       "    }\n",
       "</style>\n",
       "<table border=\"1\" class=\"dataframe\">\n",
       "  <thead>\n",
       "    <tr style=\"text-align: right;\">\n",
       "      <th></th>\n",
       "      <th>alpha</th>\n",
       "      <th>cond(a+alpha*E)</th>\n",
       "      <th>||x-x_alpha||</th>\n",
       "    </tr>\n",
       "  </thead>\n",
       "  <tbody>\n",
       "    <tr>\n",
       "      <th>0</th>\n",
       "      <td>0.000000e+00</td>\n",
       "      <td>524.056778</td>\n",
       "      <td>0.000000</td>\n",
       "    </tr>\n",
       "    <tr>\n",
       "      <th>1</th>\n",
       "      <td>1.000000e-02</td>\n",
       "      <td>111.790091</td>\n",
       "      <td>10631.235462</td>\n",
       "    </tr>\n",
       "    <tr>\n",
       "      <th>2</th>\n",
       "      <td>1.000000e-04</td>\n",
       "      <td>505.291334</td>\n",
       "      <td>483.909268</td>\n",
       "    </tr>\n",
       "    <tr>\n",
       "      <th>3</th>\n",
       "      <td>1.000000e-06</td>\n",
       "      <td>523.862213</td>\n",
       "      <td>5.017296</td>\n",
       "    </tr>\n",
       "    <tr>\n",
       "      <th>4</th>\n",
       "      <td>1.000000e-08</td>\n",
       "      <td>524.054831</td>\n",
       "      <td>0.050191</td>\n",
       "    </tr>\n",
       "    <tr>\n",
       "      <th>5</th>\n",
       "      <td>1.000000e-10</td>\n",
       "      <td>524.056758</td>\n",
       "      <td>0.000502</td>\n",
       "    </tr>\n",
       "    <tr>\n",
       "      <th>6</th>\n",
       "      <td>1.000000e-12</td>\n",
       "      <td>524.056777</td>\n",
       "      <td>0.000005</td>\n",
       "    </tr>\n",
       "  </tbody>\n",
       "</table>\n",
       "</div>"
      ],
      "text/plain": [
       "          alpha  cond(a+alpha*E)  ||x-x_alpha||\n",
       "0  0.000000e+00       524.056778       0.000000\n",
       "1  1.000000e-02       111.790091   10631.235462\n",
       "2  1.000000e-04       505.291334     483.909268\n",
       "3  1.000000e-06       523.862213       5.017296\n",
       "4  1.000000e-08       524.054831       0.050191\n",
       "5  1.000000e-10       524.056758       0.000502\n",
       "6  1.000000e-12       524.056777       0.000005"
      ]
     },
     "execution_count": 69,
     "metadata": {},
     "output_type": "execute_result"
    }
   ],
   "source": [
    "regularisation_solution(matrixes[0])"
   ]
  },
  {
   "cell_type": "code",
   "execution_count": 72,
   "metadata": {},
   "outputs": [
    {
     "data": {
      "text/html": [
       "<div>\n",
       "<style scoped>\n",
       "    .dataframe tbody tr th:only-of-type {\n",
       "        vertical-align: middle;\n",
       "    }\n",
       "\n",
       "    .dataframe tbody tr th {\n",
       "        vertical-align: top;\n",
       "    }\n",
       "\n",
       "    .dataframe thead th {\n",
       "        text-align: right;\n",
       "    }\n",
       "</style>\n",
       "<table border=\"1\" class=\"dataframe\">\n",
       "  <thead>\n",
       "    <tr style=\"text-align: right;\">\n",
       "      <th></th>\n",
       "      <th>alpha</th>\n",
       "      <th>cond(a+alpha*E)</th>\n",
       "      <th>||x-x_alpha||</th>\n",
       "    </tr>\n",
       "  </thead>\n",
       "  <tbody>\n",
       "    <tr>\n",
       "      <th>0</th>\n",
       "      <td>0.000000e+00</td>\n",
       "      <td>15513.738739</td>\n",
       "      <td>0.000000</td>\n",
       "    </tr>\n",
       "    <tr>\n",
       "      <th>1</th>\n",
       "      <td>1.000000e-02</td>\n",
       "      <td>149.575003</td>\n",
       "      <td>14748.748061</td>\n",
       "    </tr>\n",
       "    <tr>\n",
       "      <th>2</th>\n",
       "      <td>1.000000e-04</td>\n",
       "      <td>7627.334553</td>\n",
       "      <td>7413.777308</td>\n",
       "    </tr>\n",
       "    <tr>\n",
       "      <th>3</th>\n",
       "      <td>1.000000e-06</td>\n",
       "      <td>15354.963172</td>\n",
       "      <td>149.254833</td>\n",
       "    </tr>\n",
       "    <tr>\n",
       "      <th>4</th>\n",
       "      <td>1.000000e-08</td>\n",
       "      <td>15512.134730</td>\n",
       "      <td>1.507826</td>\n",
       "    </tr>\n",
       "    <tr>\n",
       "      <th>5</th>\n",
       "      <td>1.000000e-10</td>\n",
       "      <td>15513.722697</td>\n",
       "      <td>0.015080</td>\n",
       "    </tr>\n",
       "    <tr>\n",
       "      <th>6</th>\n",
       "      <td>1.000000e-12</td>\n",
       "      <td>15513.738579</td>\n",
       "      <td>0.000151</td>\n",
       "    </tr>\n",
       "  </tbody>\n",
       "</table>\n",
       "</div>"
      ],
      "text/plain": [
       "          alpha  cond(a+alpha*E)  ||x-x_alpha||\n",
       "0  0.000000e+00     15513.738739       0.000000\n",
       "1  1.000000e-02       149.575003   14748.748061\n",
       "2  1.000000e-04      7627.334553    7413.777308\n",
       "3  1.000000e-06     15354.963172     149.254833\n",
       "4  1.000000e-08     15512.134730       1.507826\n",
       "5  1.000000e-10     15513.722697       0.015080\n",
       "6  1.000000e-12     15513.738579       0.000151"
      ]
     },
     "execution_count": 72,
     "metadata": {},
     "output_type": "execute_result"
    }
   ],
   "source": [
    "regularisation_solution(matrixes[1])"
   ]
  },
  {
   "cell_type": "code",
   "execution_count": 73,
   "metadata": {},
   "outputs": [
    {
     "data": {
      "text/html": [
       "<div>\n",
       "<style scoped>\n",
       "    .dataframe tbody tr th:only-of-type {\n",
       "        vertical-align: middle;\n",
       "    }\n",
       "\n",
       "    .dataframe tbody tr th {\n",
       "        vertical-align: top;\n",
       "    }\n",
       "\n",
       "    .dataframe thead th {\n",
       "        text-align: right;\n",
       "    }\n",
       "</style>\n",
       "<table border=\"1\" class=\"dataframe\">\n",
       "  <thead>\n",
       "    <tr style=\"text-align: right;\">\n",
       "      <th></th>\n",
       "      <th>alpha</th>\n",
       "      <th>cond(a+alpha*E)</th>\n",
       "      <th>||x-x_alpha||</th>\n",
       "    </tr>\n",
       "  </thead>\n",
       "  <tbody>\n",
       "    <tr>\n",
       "      <th>0</th>\n",
       "      <td>0.000000e+00</td>\n",
       "      <td>476607.250242</td>\n",
       "      <td>0.000000e+00</td>\n",
       "    </tr>\n",
       "    <tr>\n",
       "      <th>1</th>\n",
       "      <td>1.000000e-02</td>\n",
       "      <td>157.653234</td>\n",
       "      <td>2.763984e+07</td>\n",
       "    </tr>\n",
       "    <tr>\n",
       "      <th>2</th>\n",
       "      <td>1.000000e-04</td>\n",
       "      <td>15172.641273</td>\n",
       "      <td>2.676870e+07</td>\n",
       "    </tr>\n",
       "    <tr>\n",
       "      <th>3</th>\n",
       "      <td>1.000000e-06</td>\n",
       "      <td>365456.558250</td>\n",
       "      <td>6.448061e+06</td>\n",
       "    </tr>\n",
       "    <tr>\n",
       "      <th>4</th>\n",
       "      <td>1.000000e-08</td>\n",
       "      <td>475162.081827</td>\n",
       "      <td>8.383694e+04</td>\n",
       "    </tr>\n",
       "    <tr>\n",
       "      <th>5</th>\n",
       "      <td>1.000000e-10</td>\n",
       "      <td>476592.755044</td>\n",
       "      <td>8.408939e+02</td>\n",
       "    </tr>\n",
       "    <tr>\n",
       "      <th>6</th>\n",
       "      <td>1.000000e-12</td>\n",
       "      <td>476607.105284</td>\n",
       "      <td>8.409333e+00</td>\n",
       "    </tr>\n",
       "  </tbody>\n",
       "</table>\n",
       "</div>"
      ],
      "text/plain": [
       "          alpha  cond(a+alpha*E)  ||x-x_alpha||\n",
       "0  0.000000e+00    476607.250242   0.000000e+00\n",
       "1  1.000000e-02       157.653234   2.763984e+07\n",
       "2  1.000000e-04     15172.641273   2.676870e+07\n",
       "3  1.000000e-06    365456.558250   6.448061e+06\n",
       "4  1.000000e-08    475162.081827   8.383694e+04\n",
       "5  1.000000e-10    476592.755044   8.408939e+02\n",
       "6  1.000000e-12    476607.105284   8.409333e+00"
      ]
     },
     "execution_count": 73,
     "metadata": {},
     "output_type": "execute_result"
    }
   ],
   "source": [
    "regularisation_solution(matrixes[2])"
   ]
  }
 ],
 "metadata": {
  "kernelspec": {
   "display_name": "Python 3",
   "language": "python",
   "name": "python3"
  },
  "language_info": {
   "codemirror_mode": {
    "name": "ipython",
    "version": 3
   },
   "file_extension": ".py",
   "mimetype": "text/x-python",
   "name": "python",
   "nbconvert_exporter": "python",
   "pygments_lexer": "ipython3",
   "version": "3.8.5"
  }
 },
 "nbformat": 4,
 "nbformat_minor": 4
}
